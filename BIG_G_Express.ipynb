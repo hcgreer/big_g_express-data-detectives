{
 "cells": [
  {
   "cell_type": "code",
   "execution_count": 1,
   "id": "c7455cc0",
   "metadata": {},
   "outputs": [],
   "source": [
    "import pandas as pd\n",
    "import numpy as np\n",
    "import json\n",
    "from pandas.io.json import json_normalize\n",
    "import os\n",
    "import glob\n",
    "\n",
    "from sklearn.model_selection import train_test_split\n",
    "from sklearn.preprocessing import LabelEncoder, StandardScaler\n",
    "from sklearn.model_selection import train_test_split, GridSearchCV\n",
    "from sklearn.metrics import classification_report\n",
    "from sklearn.linear_model import SGDClassifier\n",
    "from sklearn.pipeline import Pipeline"
   ]
  },
  {
   "cell_type": "code",
   "execution_count": 11,
   "id": "b056e9ba",
   "metadata": {},
   "outputs": [
    {
     "name": "stderr",
     "output_type": "stream",
     "text": [
      "C:\\Users\\Pupnsuds90\\AppData\\Local\\Temp\\ipykernel_17468\\206033026.py:1: DtypeWarning: Columns (15) have mixed types. Specify dtype option on import or set low_memory=False.\n",
      "  J1939_faults = pd.read_csv('data/J1939Faults.csv')\n"
     ]
    }
   ],
   "source": [
    "J1939_faults = pd.read_csv('data/J1939Faults.csv')"
   ]
  },
  {
   "cell_type": "code",
   "execution_count": 17,
   "id": "018df3d4",
   "metadata": {
    "scrolled": true
   },
   "outputs": [
    {
     "name": "stdout",
     "output_type": "stream",
     "text": [
      "<class 'pandas.core.frame.DataFrame'>\n",
      "RangeIndex: 1187335 entries, 0 to 1187334\n",
      "Data columns (total 20 columns):\n",
      " #   Column                 Non-Null Count    Dtype  \n",
      "---  ------                 --------------    -----  \n",
      " 0   RecordID               1187335 non-null  int64  \n",
      " 1   ESS_Id                 1187335 non-null  int64  \n",
      " 2   EventTimeStamp         1187335 non-null  object \n",
      " 3   eventDescription       1126490 non-null  object \n",
      " 4   actionDescription      0 non-null        float64\n",
      " 5   ecuSoftwareVersion     891285 non-null   object \n",
      " 6   ecuSerialNumber        844318 non-null   object \n",
      " 7   ecuModel               1122577 non-null  object \n",
      " 8   ecuMake                1122577 non-null  object \n",
      " 9   ecuSource              1187335 non-null  int64  \n",
      " 10  spn                    1187335 non-null  int64  \n",
      " 11  fmi                    1187335 non-null  int64  \n",
      " 12  active                 1187335 non-null  bool   \n",
      " 13  activeTransitionCount  1187335 non-null  int64  \n",
      " 14  faultValue             0 non-null        float64\n",
      " 15  EquipmentID            1187335 non-null  object \n",
      " 16  MCTNumber              1187335 non-null  int64  \n",
      " 17  Latitude               1187335 non-null  float64\n",
      " 18  Longitude              1187335 non-null  float64\n",
      " 19  LocationTimeStamp      1187335 non-null  object \n",
      "dtypes: bool(1), float64(4), int64(7), object(8)\n",
      "memory usage: 173.2+ MB\n"
     ]
    }
   ],
   "source": [
    "J1939_faults.info()"
   ]
  },
  {
   "cell_type": "code",
   "execution_count": 27,
   "id": "f8c3bce9",
   "metadata": {},
   "outputs": [
    {
     "data": {
      "text/plain": [
       "0          1439\n",
       "1          1439\n",
       "2          1369\n",
       "3          1369\n",
       "4          1674\n",
       "           ... \n",
       "1187330    2282\n",
       "1187331    1994\n",
       "1187332    1850\n",
       "1187333    2377\n",
       "1187334    2377\n",
       "Name: EquipmentID, Length: 1187335, dtype: object"
      ]
     },
     "execution_count": 27,
     "metadata": {},
     "output_type": "execute_result"
    }
   ],
   "source": [
    "J1939_faults['EquipmentID'].astype('str')"
   ]
  },
  {
   "cell_type": "code",
   "execution_count": 9,
   "id": "fc08477e",
   "metadata": {},
   "outputs": [],
   "source": [
    "service_fault_codes = pd.read_csv('data/Service_Fault_Codes_1_0_0_167.csv')"
   ]
  },
  {
   "cell_type": "code",
   "execution_count": 16,
   "id": "47d81299",
   "metadata": {
    "scrolled": false
   },
   "outputs": [
    {
     "data": {
      "text/html": [
       "<div>\n",
       "<style scoped>\n",
       "    .dataframe tbody tr th:only-of-type {\n",
       "        vertical-align: middle;\n",
       "    }\n",
       "\n",
       "    .dataframe tbody tr th {\n",
       "        vertical-align: top;\n",
       "    }\n",
       "\n",
       "    .dataframe thead th {\n",
       "        text-align: right;\n",
       "    }\n",
       "</style>\n",
       "<table border=\"1\" class=\"dataframe\">\n",
       "  <thead>\n",
       "    <tr style=\"text-align: right;\">\n",
       "      <th></th>\n",
       "      <th>Published in CES 14602</th>\n",
       "      <th>Cummins Fault Code</th>\n",
       "      <th>Revision</th>\n",
       "      <th>PID</th>\n",
       "      <th>SID</th>\n",
       "      <th>MID</th>\n",
       "      <th>J1587 FMI</th>\n",
       "      <th>SPN</th>\n",
       "      <th>J1939 FMI</th>\n",
       "      <th>J2012 Pcode</th>\n",
       "      <th>Lamp Color</th>\n",
       "      <th>Lamp Device</th>\n",
       "      <th>Cummins Description</th>\n",
       "      <th>Algorithm Description</th>\n",
       "    </tr>\n",
       "  </thead>\n",
       "  <tbody>\n",
       "    <tr>\n",
       "      <th>2518</th>\n",
       "      <td>Y</td>\n",
       "      <td>3712</td>\n",
       "      <td>167</td>\n",
       "      <td>Not Mapped</td>\n",
       "      <td>Not Mapped</td>\n",
       "      <td>Not Mapped</td>\n",
       "      <td>0</td>\n",
       "      <td>5246</td>\n",
       "      <td>0</td>\n",
       "      <td>Not Mapped</td>\n",
       "      <td>Red</td>\n",
       "      <td>Stop / Shutdown</td>\n",
       "      <td>Aftertreatment SCR Operator Inducement - Data ...</td>\n",
       "      <td>SCR inducement of 5 mph derate - Fault Code 41...</td>\n",
       "    </tr>\n",
       "    <tr>\n",
       "      <th>2781</th>\n",
       "      <td>Y</td>\n",
       "      <td>4134</td>\n",
       "      <td>167</td>\n",
       "      <td>Not Mapped</td>\n",
       "      <td>Not Mapped</td>\n",
       "      <td>Not Mapped</td>\n",
       "      <td>0</td>\n",
       "      <td>5246</td>\n",
       "      <td>15</td>\n",
       "      <td>Not Mapped</td>\n",
       "      <td>Amber</td>\n",
       "      <td>Warning</td>\n",
       "      <td>Aftertreatment SCR Operator Inducement - Data ...</td>\n",
       "      <td>SCR inducement - Least Severe - Fault Code 371...</td>\n",
       "    </tr>\n",
       "    <tr>\n",
       "      <th>4338</th>\n",
       "      <td>Y</td>\n",
       "      <td>6254</td>\n",
       "      <td>167</td>\n",
       "      <td>Not Mapped</td>\n",
       "      <td>Not Mapped</td>\n",
       "      <td>Not Mapped</td>\n",
       "      <td>0</td>\n",
       "      <td>5246</td>\n",
       "      <td>16</td>\n",
       "      <td>Not Mapped</td>\n",
       "      <td>Amber</td>\n",
       "      <td>Warning</td>\n",
       "      <td>Aftertreatment SCR Operator Inducement Severit...</td>\n",
       "      <td>NaN</td>\n",
       "    </tr>\n",
       "  </tbody>\n",
       "</table>\n",
       "</div>"
      ],
      "text/plain": [
       "     Published in CES 14602  Cummins Fault Code  Revision         PID  \\\n",
       "2518                      Y                3712       167  Not Mapped   \n",
       "2781                      Y                4134       167  Not Mapped   \n",
       "4338                      Y                6254       167  Not Mapped   \n",
       "\n",
       "             SID         MID  J1587 FMI   SPN  J1939 FMI J2012 Pcode  \\\n",
       "2518  Not Mapped  Not Mapped          0  5246          0  Not Mapped   \n",
       "2781  Not Mapped  Not Mapped          0  5246         15  Not Mapped   \n",
       "4338  Not Mapped  Not Mapped          0  5246         16  Not Mapped   \n",
       "\n",
       "     Lamp Color      Lamp Device  \\\n",
       "2518        Red  Stop / Shutdown   \n",
       "2781      Amber          Warning   \n",
       "4338      Amber          Warning   \n",
       "\n",
       "                                    Cummins Description  \\\n",
       "2518  Aftertreatment SCR Operator Inducement - Data ...   \n",
       "2781  Aftertreatment SCR Operator Inducement - Data ...   \n",
       "4338  Aftertreatment SCR Operator Inducement Severit...   \n",
       "\n",
       "                                  Algorithm Description  \n",
       "2518  SCR inducement of 5 mph derate - Fault Code 41...  \n",
       "2781  SCR inducement - Least Severe - Fault Code 371...  \n",
       "4338                                                NaN  "
      ]
     },
     "execution_count": 16,
     "metadata": {},
     "output_type": "execute_result"
    }
   ],
   "source": [
    "service_fault_codes[service_fault_codes['SPN'] == 5246]"
   ]
  },
  {
   "cell_type": "code",
   "execution_count": null,
   "id": "93661252",
   "metadata": {},
   "outputs": [],
   "source": [
    "# Split the data into features (X) and target variable (y)\n",
    "X = data.drop(columns=['target'])\n",
    "y = data['target']\n",
    "\n",
    "# Perform feature selection using chi-squared test\n",
    "k = 10  # Select the top 10 features\n",
    "selector = SelectKBest(chi2, k=k)\n",
    "selector.fit(X, y)\n",
    "\n",
    "# Get the scores and p-values for each feature\n",
    "scores = selector.scores_\n",
    "pvalues = selector.pvalues_"
   ]
  },
  {
   "cell_type": "code",
   "execution_count": 14,
   "id": "b9dd3070",
   "metadata": {},
   "outputs": [],
   "source": [
    "VDOD = pd.read_csv('data/VehicleDiagnosticOnboardData.csv')"
   ]
  },
  {
   "cell_type": "code",
   "execution_count": 15,
   "id": "62c171fb",
   "metadata": {},
   "outputs": [
    {
     "data": {
      "text/html": [
       "<div>\n",
       "<style scoped>\n",
       "    .dataframe tbody tr th:only-of-type {\n",
       "        vertical-align: middle;\n",
       "    }\n",
       "\n",
       "    .dataframe tbody tr th {\n",
       "        vertical-align: top;\n",
       "    }\n",
       "\n",
       "    .dataframe thead th {\n",
       "        text-align: right;\n",
       "    }\n",
       "</style>\n",
       "<table border=\"1\" class=\"dataframe\">\n",
       "  <thead>\n",
       "    <tr style=\"text-align: right;\">\n",
       "      <th></th>\n",
       "      <th>Id</th>\n",
       "      <th>Name</th>\n",
       "      <th>Value</th>\n",
       "      <th>FaultId</th>\n",
       "    </tr>\n",
       "  </thead>\n",
       "  <tbody>\n",
       "    <tr>\n",
       "      <th>0</th>\n",
       "      <td>1</td>\n",
       "      <td>IgnStatus</td>\n",
       "      <td>False</td>\n",
       "      <td>1</td>\n",
       "    </tr>\n",
       "    <tr>\n",
       "      <th>1</th>\n",
       "      <td>2</td>\n",
       "      <td>EngineOilPressure</td>\n",
       "      <td>0</td>\n",
       "      <td>1</td>\n",
       "    </tr>\n",
       "    <tr>\n",
       "      <th>2</th>\n",
       "      <td>3</td>\n",
       "      <td>EngineOilTemperature</td>\n",
       "      <td>96.74375</td>\n",
       "      <td>1</td>\n",
       "    </tr>\n",
       "    <tr>\n",
       "      <th>3</th>\n",
       "      <td>4</td>\n",
       "      <td>TurboBoostPressure</td>\n",
       "      <td>0</td>\n",
       "      <td>1</td>\n",
       "    </tr>\n",
       "    <tr>\n",
       "      <th>4</th>\n",
       "      <td>5</td>\n",
       "      <td>EngineLoad</td>\n",
       "      <td>11</td>\n",
       "      <td>1</td>\n",
       "    </tr>\n",
       "    <tr>\n",
       "      <th>...</th>\n",
       "      <td>...</td>\n",
       "      <td>...</td>\n",
       "      <td>...</td>\n",
       "      <td>...</td>\n",
       "    </tr>\n",
       "    <tr>\n",
       "      <th>12821621</th>\n",
       "      <td>12864020</td>\n",
       "      <td>EngineCoolantTemperature</td>\n",
       "      <td>181.4</td>\n",
       "      <td>1248457</td>\n",
       "    </tr>\n",
       "    <tr>\n",
       "      <th>12821622</th>\n",
       "      <td>12864021</td>\n",
       "      <td>ParkingBrake</td>\n",
       "      <td>False</td>\n",
       "      <td>1248457</td>\n",
       "    </tr>\n",
       "    <tr>\n",
       "      <th>12821623</th>\n",
       "      <td>12864022</td>\n",
       "      <td>SwitchedBatteryVoltage</td>\n",
       "      <td>14.1</td>\n",
       "      <td>1248457</td>\n",
       "    </tr>\n",
       "    <tr>\n",
       "      <th>12821624</th>\n",
       "      <td>12864023</td>\n",
       "      <td>DistanceLtd</td>\n",
       "      <td>28606.65625</td>\n",
       "      <td>1248457</td>\n",
       "    </tr>\n",
       "    <tr>\n",
       "      <th>12821625</th>\n",
       "      <td>12864024</td>\n",
       "      <td>LampStatus</td>\n",
       "      <td>1023</td>\n",
       "      <td>1248458</td>\n",
       "    </tr>\n",
       "  </tbody>\n",
       "</table>\n",
       "<p>12821626 rows × 4 columns</p>\n",
       "</div>"
      ],
      "text/plain": [
       "                Id                      Name        Value  FaultId\n",
       "0                1                 IgnStatus        False        1\n",
       "1                2         EngineOilPressure            0        1\n",
       "2                3      EngineOilTemperature     96.74375        1\n",
       "3                4        TurboBoostPressure            0        1\n",
       "4                5                EngineLoad           11        1\n",
       "...            ...                       ...          ...      ...\n",
       "12821621  12864020  EngineCoolantTemperature        181.4  1248457\n",
       "12821622  12864021              ParkingBrake        False  1248457\n",
       "12821623  12864022    SwitchedBatteryVoltage         14.1  1248457\n",
       "12821624  12864023               DistanceLtd  28606.65625  1248457\n",
       "12821625  12864024                LampStatus         1023  1248458\n",
       "\n",
       "[12821626 rows x 4 columns]"
      ]
     },
     "execution_count": 15,
     "metadata": {},
     "output_type": "execute_result"
    }
   ],
   "source": [
    "VDOD"
   ]
  },
  {
   "cell_type": "code",
   "execution_count": null,
   "id": "404426aa",
   "metadata": {},
   "outputs": [],
   "source": []
  }
 ],
 "metadata": {
  "kernelspec": {
   "display_name": "Python 3 (ipykernel)",
   "language": "python",
   "name": "python3"
  },
  "language_info": {
   "codemirror_mode": {
    "name": "ipython",
    "version": 3
   },
   "file_extension": ".py",
   "mimetype": "text/x-python",
   "name": "python",
   "nbconvert_exporter": "python",
   "pygments_lexer": "ipython3",
   "version": "3.9.16"
  }
 },
 "nbformat": 4,
 "nbformat_minor": 5
}

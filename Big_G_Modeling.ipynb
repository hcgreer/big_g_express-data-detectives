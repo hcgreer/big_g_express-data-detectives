{
 "cells": [
  {
   "cell_type": "code",
   "execution_count": 1,
   "id": "990b5422",
   "metadata": {},
   "outputs": [],
   "source": [
    "import pandas as pd\n",
    "import numpy as np\n",
    "import json\n",
    "from pandas.io.json import json_normalize\n",
    "import os\n",
    "import glob\n",
    "\n",
    "from sklearn.model_selection import train_test_split\n",
    "from sklearn.preprocessing import LabelEncoder, StandardScaler\n",
    "from sklearn.model_selection import train_test_split, GridSearchCV\n",
    "from sklearn.metrics import classification_report\n",
    "from sklearn.linear_model import SGDClassifier\n",
    "from sklearn.pipeline import Pipeline\n",
    "import matplotlib.pyplot as plt\n",
    "from scipy.stats import chi2_contingency\n",
    "from sklearn.feature_extraction.text import CountVectorizer\n",
    "from sklearn.preprocessing import OneHotEncoder\n",
    "from tqdm import tqdm\n",
    "from sklearn.metrics import accuracy_score, confusion_matrix, roc_curve, roc_auc_score\n"
   ]
  },
  {
   "cell_type": "code",
   "execution_count": 2,
   "id": "92cb183c",
   "metadata": {},
   "outputs": [],
   "source": [
    "Predictors = pd.read_csv('Predictors.csv')\n",
    "target_1 = pd.read_csv('target_1.csv')"
   ]
  },
  {
   "cell_type": "code",
   "execution_count": 3,
   "id": "3fa75f38",
   "metadata": {},
   "outputs": [],
   "source": [
    "import random\n",
    "\n",
    "trucks = target_1[['EquipmentID']].drop_duplicates()['EquipmentID'].to_list()\n",
    "\n",
    "random.shuffle(trucks)\n",
    "\n",
    "trainTrucks = trucks[0:831]\n",
    "\n",
    "testTrucks = trucks[831:]\n",
    "\n",
    "xTrain = Predictors.loc[Predictors['EquipmentID'].isin(trainTrucks)].drop(columns = 'EquipmentID')\n",
    "xTest = Predictors.loc[Predictors['EquipmentID'].isin(testTrucks)].drop(columns = 'EquipmentID')\n",
    "yTrain = target_1.loc[target_1['EquipmentID'].isin(trainTrucks)].drop(columns = 'EquipmentID')\n",
    "yTest = target_1.loc[target_1['EquipmentID'].isin(testTrucks)].drop(columns = 'EquipmentID')"
   ]
  },
  {
   "cell_type": "code",
   "execution_count": null,
   "id": "0a8b31da",
   "metadata": {},
   "outputs": [],
   "source": [
    "from imblearn.pipeline import Pipeline\n",
    "from imblearn.over_sampling import RandomOverSampler, SMOTE, ADASYN\n",
    "from sklearn.ensemble import RandomForestClassifier\n",
    "from sklearn.decomposition import PCA\n",
    "\n",
    "# Define the oversampling functions you want to use\n",
    "oversampling = RandomOverSampler()\n",
    "\n",
    "\n",
    "# Define the machine learning model you want to use\n",
    "classifier = RandomForestClassifier()\n",
    "\n",
    "# Create the pipeline\n",
    "pipeline = Pipeline([\n",
    "    ('scaler', StandardScaler()),\n",
    "    ('oversampling', oversampling),\n",
    "    ('classifier', classifier)\n",
    "])\n",
    "\n",
    "# Fit the pipeline to your training data\n",
    "pipeline.fit(xTrain, yTrain['target']==1)\n",
    "\n",
    "score = pipeline.score(xTest, yTest['target']==1)\n",
    "print(\"Accuracy:\", score)\n",
    "\n",
    "# Make predictions on your test data\n",
    "y_pred = pipeline.predict(xTest)"
   ]
  },
  {
   "cell_type": "code",
   "execution_count": 16,
   "id": "b8692228",
   "metadata": {},
   "outputs": [
    {
     "name": "stdout",
     "output_type": "stream",
     "text": [
      "Confusion matrix:\n",
      " [[90963     8]\n",
      " [  246     1]]\n"
     ]
    }
   ],
   "source": [
    "conf_mat = confusion_matrix(yTest['target']==1, y_pred)\n",
    "print(\"Confusion matrix:\\n\", conf_mat)\n"
   ]
  },
  {
   "cell_type": "code",
   "execution_count": null,
   "id": "2e5bc9e5",
   "metadata": {},
   "outputs": [],
   "source": []
  }
 ],
 "metadata": {
  "kernelspec": {
   "display_name": "Python 3 (ipykernel)",
   "language": "python",
   "name": "python3"
  },
  "language_info": {
   "codemirror_mode": {
    "name": "ipython",
    "version": 3
   },
   "file_extension": ".py",
   "mimetype": "text/x-python",
   "name": "python",
   "nbconvert_exporter": "python",
   "pygments_lexer": "ipython3",
   "version": "3.9.16"
  }
 },
 "nbformat": 4,
 "nbformat_minor": 5
}

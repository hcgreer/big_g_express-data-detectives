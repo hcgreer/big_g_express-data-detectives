{
 "cells": [
  {
   "cell_type": "code",
   "execution_count": 1,
   "id": "2aeb5871",
   "metadata": {},
   "outputs": [],
   "source": [
    "import pandas as pd\n",
    "import random\n",
    "from sklearn.metrics import accuracy_score\n",
    "from sklearn.model_selection import train_test_split\n",
    "import numpy as np"
   ]
  },
  {
   "cell_type": "code",
   "execution_count": 2,
   "id": "293552a6",
   "metadata": {},
   "outputs": [],
   "source": [
    "target = pd.read_csv('../data/target.csv')\n",
    "predictors = pd.read_csv('../data/predictors.csv')"
   ]
  },
  {
   "cell_type": "markdown",
   "id": "b895b568",
   "metadata": {},
   "source": [
    "**Creating a train test split on the truck id instead of the full data set with a stratify on derates**"
   ]
  },
  {
   "cell_type": "code",
   "execution_count": 4,
   "id": "c8e312b7",
   "metadata": {},
   "outputs": [],
   "source": [
    "trucks = target[['EquipmentID']].drop_duplicates()\n",
    "\n",
    "derates = target.loc[target['target'] == 1]['EquipmentID'].drop_duplicates().to_list()\n",
    "\n",
    "trucks['derate'] = np.where(\n",
    "    trucks['EquipmentID'].isin(derates), 1, 0\n",
    ")\n",
    "\n",
    "xTrain, xTest, yTrain, yTest = train_test_split(\n",
    "    trucks['EquipmentID'], trucks['EquipmentID'], test_size = .2, random_state = 777, stratify = trucks['derate']\n",
    ")"
   ]
  },
  {
   "cell_type": "code",
   "execution_count": 5,
   "id": "9be30eab",
   "metadata": {},
   "outputs": [],
   "source": [
    "xTrain = (predictors.loc[predictors['EquipmentID'].isin(xTrain)]\n",
    "          .drop(columns = ['EquipmentID', 'EventTimeStamp'])\n",
    "          .reset_index(drop = True)\n",
    "         )\n",
    "xTest = (predictors.loc[predictors['EquipmentID'].isin(xTest)]\n",
    "          .drop(columns = ['EquipmentID', 'EventTimeStamp'])\n",
    "          .reset_index(drop = True)\n",
    "         )\n",
    "yTrain = target.loc[target['EquipmentID'].isin(yTrain)].reset_index(drop = True)\n",
    "yTest = target.loc[target['EquipmentID'].isin(yTest)].reset_index(drop = True)"
   ]
  },
  {
   "cell_type": "code",
   "execution_count": 7,
   "id": "34121929",
   "metadata": {},
   "outputs": [],
   "source": [
    "from imblearn.over_sampling import RandomOverSampler\n",
    "from sklearn.neural_network import MLPClassifier\n",
    "from sklearn.pipeline import Pipeline\n",
    "from sklearn.metrics import confusion_matrix"
   ]
  },
  {
   "cell_type": "markdown",
   "id": "bbb93e8e",
   "metadata": {},
   "source": [
    "**Over sampling the data to help with the imbalance**"
   ]
  },
  {
   "cell_type": "code",
   "execution_count": 8,
   "id": "aeaec1b4",
   "metadata": {},
   "outputs": [],
   "source": [
    "oversample = RandomOverSampler(sampling_strategy=0.5)\n",
    "\n",
    "xTrain_over, yTrain_over = oversample.fit_resample(\n",
    "    xTrain, \n",
    "    yTrain['target'] == 1\n",
    ")"
   ]
  },
  {
   "cell_type": "markdown",
   "id": "4bb1b2db",
   "metadata": {},
   "source": [
    "**Running a neural network classifier**"
   ]
  },
  {
   "cell_type": "code",
   "execution_count": 12,
   "id": "9276cd37",
   "metadata": {},
   "outputs": [
    {
     "data": {
      "text/html": [
       "<style>#sk-container-id-2 {color: black;background-color: white;}#sk-container-id-2 pre{padding: 0;}#sk-container-id-2 div.sk-toggleable {background-color: white;}#sk-container-id-2 label.sk-toggleable__label {cursor: pointer;display: block;width: 100%;margin-bottom: 0;padding: 0.3em;box-sizing: border-box;text-align: center;}#sk-container-id-2 label.sk-toggleable__label-arrow:before {content: \"▸\";float: left;margin-right: 0.25em;color: #696969;}#sk-container-id-2 label.sk-toggleable__label-arrow:hover:before {color: black;}#sk-container-id-2 div.sk-estimator:hover label.sk-toggleable__label-arrow:before {color: black;}#sk-container-id-2 div.sk-toggleable__content {max-height: 0;max-width: 0;overflow: hidden;text-align: left;background-color: #f0f8ff;}#sk-container-id-2 div.sk-toggleable__content pre {margin: 0.2em;color: black;border-radius: 0.25em;background-color: #f0f8ff;}#sk-container-id-2 input.sk-toggleable__control:checked~div.sk-toggleable__content {max-height: 200px;max-width: 100%;overflow: auto;}#sk-container-id-2 input.sk-toggleable__control:checked~label.sk-toggleable__label-arrow:before {content: \"▾\";}#sk-container-id-2 div.sk-estimator input.sk-toggleable__control:checked~label.sk-toggleable__label {background-color: #d4ebff;}#sk-container-id-2 div.sk-label input.sk-toggleable__control:checked~label.sk-toggleable__label {background-color: #d4ebff;}#sk-container-id-2 input.sk-hidden--visually {border: 0;clip: rect(1px 1px 1px 1px);clip: rect(1px, 1px, 1px, 1px);height: 1px;margin: -1px;overflow: hidden;padding: 0;position: absolute;width: 1px;}#sk-container-id-2 div.sk-estimator {font-family: monospace;background-color: #f0f8ff;border: 1px dotted black;border-radius: 0.25em;box-sizing: border-box;margin-bottom: 0.5em;}#sk-container-id-2 div.sk-estimator:hover {background-color: #d4ebff;}#sk-container-id-2 div.sk-parallel-item::after {content: \"\";width: 100%;border-bottom: 1px solid gray;flex-grow: 1;}#sk-container-id-2 div.sk-label:hover label.sk-toggleable__label {background-color: #d4ebff;}#sk-container-id-2 div.sk-serial::before {content: \"\";position: absolute;border-left: 1px solid gray;box-sizing: border-box;top: 0;bottom: 0;left: 50%;z-index: 0;}#sk-container-id-2 div.sk-serial {display: flex;flex-direction: column;align-items: center;background-color: white;padding-right: 0.2em;padding-left: 0.2em;position: relative;}#sk-container-id-2 div.sk-item {position: relative;z-index: 1;}#sk-container-id-2 div.sk-parallel {display: flex;align-items: stretch;justify-content: center;background-color: white;position: relative;}#sk-container-id-2 div.sk-item::before, #sk-container-id-2 div.sk-parallel-item::before {content: \"\";position: absolute;border-left: 1px solid gray;box-sizing: border-box;top: 0;bottom: 0;left: 50%;z-index: -1;}#sk-container-id-2 div.sk-parallel-item {display: flex;flex-direction: column;z-index: 1;position: relative;background-color: white;}#sk-container-id-2 div.sk-parallel-item:first-child::after {align-self: flex-end;width: 50%;}#sk-container-id-2 div.sk-parallel-item:last-child::after {align-self: flex-start;width: 50%;}#sk-container-id-2 div.sk-parallel-item:only-child::after {width: 0;}#sk-container-id-2 div.sk-dashed-wrapped {border: 1px dashed gray;margin: 0 0.4em 0.5em 0.4em;box-sizing: border-box;padding-bottom: 0.4em;background-color: white;}#sk-container-id-2 div.sk-label label {font-family: monospace;font-weight: bold;display: inline-block;line-height: 1.2em;}#sk-container-id-2 div.sk-label-container {text-align: center;}#sk-container-id-2 div.sk-container {/* jupyter's `normalize.less` sets `[hidden] { display: none; }` but bootstrap.min.css set `[hidden] { display: none !important; }` so we also need the `!important` here to be able to override the default hidden behavior on the sphinx rendered scikit-learn.org. See: https://github.com/scikit-learn/scikit-learn/issues/21755 */display: inline-block !important;position: relative;}#sk-container-id-2 div.sk-text-repr-fallback {display: none;}</style><div id=\"sk-container-id-2\" class=\"sk-top-container\"><div class=\"sk-text-repr-fallback\"><pre>MLPClassifier(activation=&#x27;tanh&#x27;, alpha=1, hidden_layer_sizes=(100, 100, 100),\n",
       "              max_iter=10000)</pre><b>In a Jupyter environment, please rerun this cell to show the HTML representation or trust the notebook. <br />On GitHub, the HTML representation is unable to render, please try loading this page with nbviewer.org.</b></div><div class=\"sk-container\" hidden><div class=\"sk-item\"><div class=\"sk-estimator sk-toggleable\"><input class=\"sk-toggleable__control sk-hidden--visually\" id=\"sk-estimator-id-2\" type=\"checkbox\" checked><label for=\"sk-estimator-id-2\" class=\"sk-toggleable__label sk-toggleable__label-arrow\">MLPClassifier</label><div class=\"sk-toggleable__content\"><pre>MLPClassifier(activation=&#x27;tanh&#x27;, alpha=1, hidden_layer_sizes=(100, 100, 100),\n",
       "              max_iter=10000)</pre></div></div></div></div></div>"
      ],
      "text/plain": [
       "MLPClassifier(activation='tanh', alpha=1, hidden_layer_sizes=(100, 100, 100),\n",
       "              max_iter=10000)"
      ]
     },
     "execution_count": 12,
     "metadata": {},
     "output_type": "execute_result"
    }
   ],
   "source": [
    "nn = MLPClassifier(activation = 'tanh', hidden_layer_sizes = (100, 100, 100), alpha = 1, max_iter = 10000)\n",
    "\n",
    "nn.fit(xTrain_over, yTrain_over)"
   ]
  },
  {
   "cell_type": "code",
   "execution_count": 13,
   "id": "8b9c6955",
   "metadata": {},
   "outputs": [],
   "source": [
    "yTest['prediction'] = nn.predict_proba(xTest)[:, 1]"
   ]
  },
  {
   "cell_type": "code",
   "execution_count": 14,
   "id": "68bcb7ea",
   "metadata": {},
   "outputs": [],
   "source": [
    "yTrain['prediction'] = nn.predict_proba(xTrain)[:, 1]"
   ]
  },
  {
   "cell_type": "code",
   "execution_count": 15,
   "id": "ed24d6a0",
   "metadata": {},
   "outputs": [],
   "source": [
    "#yTrain.to_csv('../data/yTrain.csv', index = False)"
   ]
  },
  {
   "cell_type": "code",
   "execution_count": 16,
   "id": "88757b71",
   "metadata": {},
   "outputs": [],
   "source": [
    "#yTest.to_csv('../data/yTest.csv', index = False)"
   ]
  },
  {
   "cell_type": "code",
   "execution_count": 17,
   "id": "4f23ca35",
   "metadata": {},
   "outputs": [
    {
     "name": "stdout",
     "output_type": "stream",
     "text": [
      "Confusion matrix:\n",
      " [[116943   1822]\n",
      " [    37     77]]\n"
     ]
    }
   ],
   "source": [
    "conf_mat = confusion_matrix(yTest['target'] == 1, nn.predict(xTest))\n",
    "print(\"Confusion matrix:\\n\", conf_mat)"
   ]
  },
  {
   "cell_type": "code",
   "execution_count": null,
   "id": "d64e6c07",
   "metadata": {},
   "outputs": [],
   "source": []
  }
 ],
 "metadata": {
  "kernelspec": {
   "display_name": "Python 3 (ipykernel)",
   "language": "python",
   "name": "python3"
  },
  "language_info": {
   "codemirror_mode": {
    "name": "ipython",
    "version": 3
   },
   "file_extension": ".py",
   "mimetype": "text/x-python",
   "name": "python",
   "nbconvert_exporter": "python",
   "pygments_lexer": "ipython3",
   "version": "3.9.16"
  }
 },
 "nbformat": 4,
 "nbformat_minor": 5
}
